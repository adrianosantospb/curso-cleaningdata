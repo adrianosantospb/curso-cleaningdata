{
 "cells": [
  {
   "cell_type": "markdown",
   "metadata": {},
   "source": [
    "# 1. Introdução à *Cleaning Data*\n",
    "#### Por Adriano Santos\n",
    "\n",
    "### Procedimentos iniciais\n",
    "\n",
    "*Cleaning Data* é o processo de preparação de dados para análise. Trata-se de um processo de extrema importância, visto que quase nunca os dados são entregues em um formato pronto para processamento. Dizemos, inclusive, que esses dados não vem limpos e isso requer que emprenhemos esforço no processo de preparação.\n",
    "\n",
    "Nesse primeiro post, nós iremos avaliar algumas forma de diagnosticar quando os nossos dados precisam ser “limpos”, isso tudo de acordo com um conjunto de problemas que são comuns no dia a dia de um cientista de dados.\n",
    "\n",
    "Dentre os problemas mais comuns, gostaria de destacar:\n",
    "\n",
    "* problemas de inconsistência nos nomes das colunas/dimensões do *dataset*;\n",
    "* dados faltantes (*missing data*): um dos problemas mais comuns na análise de dados\n",
    "* outliers (valores que fogem do padrão esperado);\n",
    "* duplicações de linhas;\n",
    "* problemas de unidades ou conversões;\n",
    "* problemas em colunas e;\n",
    "* valores com erros de sinais."
   ]
  },
  {
   "cell_type": "markdown",
   "metadata": {},
   "source": [
    "### 1.1 Carregando as bibliotecas\n",
    "\n",
    "Nesta área, geralmente concentramos as bibliotecas que serão utilizadas ao longo da análise. A primiera biblioteca que iremos utilizada é a Pandas (https://pandas.pydata.org/). O Pandas é a biblioteca para análise de dados em Python. Ela é uma das mais importante bibliotecas na área de Ciência de Dados e eu aconselho que você dedique tempo para estudá-la. "
   ]
  },
  {
   "cell_type": "code",
   "execution_count": 1,
   "metadata": {},
   "outputs": [],
   "source": [
    "# Importando as bibliotecas\n",
    "import pandas as pd"
   ]
  },
  {
   "cell_type": "markdown",
   "metadata": {},
   "source": [
    "### 1.2 Carregando e analisando a estrutura do dataset\n",
    "\n",
    "Agora, uma vez que carregamos as bibliotecas que serão utilizadas em nossa análise, devemos carregar as informações do *dataset* que será utilizado."
   ]
  },
  {
   "cell_type": "code",
   "execution_count": 2,
   "metadata": {},
   "outputs": [
    {
     "data": {
      "text/html": [
       "<div>\n",
       "<style scoped>\n",
       "    .dataframe tbody tr th:only-of-type {\n",
       "        vertical-align: middle;\n",
       "    }\n",
       "\n",
       "    .dataframe tbody tr th {\n",
       "        vertical-align: top;\n",
       "    }\n",
       "\n",
       "    .dataframe thead th {\n",
       "        text-align: right;\n",
       "    }\n",
       "</style>\n",
       "<table border=\"1\" class=\"dataframe\">\n",
       "  <thead>\n",
       "    <tr style=\"text-align: right;\">\n",
       "      <th></th>\n",
       "      <th>txNomeParlamentar</th>\n",
       "      <th>idecadastro</th>\n",
       "      <th>nuCarteiraParlamentar</th>\n",
       "      <th>nuLegislatura</th>\n",
       "      <th>sgUF</th>\n",
       "      <th>sgPartido</th>\n",
       "      <th>codLegislatura</th>\n",
       "      <th>numSubCota</th>\n",
       "      <th>txtDescricao</th>\n",
       "      <th>numEspecificacaoSubCota</th>\n",
       "      <th>...</th>\n",
       "      <th>numMes</th>\n",
       "      <th>numAno</th>\n",
       "      <th>numParcela</th>\n",
       "      <th>txtPassageiro</th>\n",
       "      <th>txtTrecho</th>\n",
       "      <th>numLote</th>\n",
       "      <th>numRessarcimento</th>\n",
       "      <th>vlrRestituicao</th>\n",
       "      <th>nuDeputadoId</th>\n",
       "      <th>ideDocumento</th>\n",
       "    </tr>\n",
       "  </thead>\n",
       "  <tbody>\n",
       "    <tr>\n",
       "      <th>0</th>\n",
       "      <td>ABEL MESQUITA JR.</td>\n",
       "      <td>178957.0</td>\n",
       "      <td>1</td>\n",
       "      <td>2015.0</td>\n",
       "      <td>RR</td>\n",
       "      <td>DEM</td>\n",
       "      <td>55.0</td>\n",
       "      <td>3.0</td>\n",
       "      <td>COMBUSTÍVEIS E LUBRIFICANTES.</td>\n",
       "      <td>1.0</td>\n",
       "      <td>...</td>\n",
       "      <td>2.0</td>\n",
       "      <td>2018.0</td>\n",
       "      <td>0.0</td>\n",
       "      <td>NaN</td>\n",
       "      <td>NaN</td>\n",
       "      <td>1471159.0</td>\n",
       "      <td>6192.0</td>\n",
       "      <td>0.0</td>\n",
       "      <td>3074.0</td>\n",
       "      <td>6519085.0</td>\n",
       "    </tr>\n",
       "    <tr>\n",
       "      <th>1</th>\n",
       "      <td>ABEL MESQUITA JR.</td>\n",
       "      <td>178957.0</td>\n",
       "      <td>1</td>\n",
       "      <td>2015.0</td>\n",
       "      <td>RR</td>\n",
       "      <td>DEM</td>\n",
       "      <td>55.0</td>\n",
       "      <td>3.0</td>\n",
       "      <td>COMBUSTÍVEIS E LUBRIFICANTES.</td>\n",
       "      <td>1.0</td>\n",
       "      <td>...</td>\n",
       "      <td>4.0</td>\n",
       "      <td>2018.0</td>\n",
       "      <td>0.0</td>\n",
       "      <td>NaN</td>\n",
       "      <td>NaN</td>\n",
       "      <td>1497012.0</td>\n",
       "      <td>6289.0</td>\n",
       "      <td>0.0</td>\n",
       "      <td>3074.0</td>\n",
       "      <td>6586329.0</td>\n",
       "    </tr>\n",
       "    <tr>\n",
       "      <th>2</th>\n",
       "      <td>ABEL MESQUITA JR.</td>\n",
       "      <td>178957.0</td>\n",
       "      <td>1</td>\n",
       "      <td>2015.0</td>\n",
       "      <td>RR</td>\n",
       "      <td>DEM</td>\n",
       "      <td>55.0</td>\n",
       "      <td>3.0</td>\n",
       "      <td>COMBUSTÍVEIS E LUBRIFICANTES.</td>\n",
       "      <td>1.0</td>\n",
       "      <td>...</td>\n",
       "      <td>3.0</td>\n",
       "      <td>2018.0</td>\n",
       "      <td>0.0</td>\n",
       "      <td>NaN</td>\n",
       "      <td>NaN</td>\n",
       "      <td>1471173.0</td>\n",
       "      <td>6192.0</td>\n",
       "      <td>0.0</td>\n",
       "      <td>3074.0</td>\n",
       "      <td>6519234.0</td>\n",
       "    </tr>\n",
       "    <tr>\n",
       "      <th>3</th>\n",
       "      <td>ABEL MESQUITA JR.</td>\n",
       "      <td>178957.0</td>\n",
       "      <td>1</td>\n",
       "      <td>2015.0</td>\n",
       "      <td>RR</td>\n",
       "      <td>DEM</td>\n",
       "      <td>55.0</td>\n",
       "      <td>3.0</td>\n",
       "      <td>COMBUSTÍVEIS E LUBRIFICANTES.</td>\n",
       "      <td>1.0</td>\n",
       "      <td>...</td>\n",
       "      <td>3.0</td>\n",
       "      <td>2018.0</td>\n",
       "      <td>0.0</td>\n",
       "      <td>NaN</td>\n",
       "      <td>NaN</td>\n",
       "      <td>1483154.0</td>\n",
       "      <td>6238.0</td>\n",
       "      <td>0.0</td>\n",
       "      <td>3074.0</td>\n",
       "      <td>6549679.0</td>\n",
       "    </tr>\n",
       "    <tr>\n",
       "      <th>4</th>\n",
       "      <td>ABEL MESQUITA JR.</td>\n",
       "      <td>178957.0</td>\n",
       "      <td>1</td>\n",
       "      <td>2015.0</td>\n",
       "      <td>RR</td>\n",
       "      <td>DEM</td>\n",
       "      <td>55.0</td>\n",
       "      <td>3.0</td>\n",
       "      <td>COMBUSTÍVEIS E LUBRIFICANTES.</td>\n",
       "      <td>1.0</td>\n",
       "      <td>...</td>\n",
       "      <td>1.0</td>\n",
       "      <td>2018.0</td>\n",
       "      <td>0.0</td>\n",
       "      <td>NaN</td>\n",
       "      <td>NaN</td>\n",
       "      <td>1463325.0</td>\n",
       "      <td>6139.0</td>\n",
       "      <td>0.0</td>\n",
       "      <td>3074.0</td>\n",
       "      <td>6498316.0</td>\n",
       "    </tr>\n",
       "  </tbody>\n",
       "</table>\n",
       "<p>5 rows × 29 columns</p>\n",
       "</div>"
      ],
      "text/plain": [
       "  txNomeParlamentar   idecadastro nuCarteiraParlamentar  nuLegislatura sgUF  \\\n",
       "0  ABEL MESQUITA JR.     178957.0                     1         2015.0   RR   \n",
       "1  ABEL MESQUITA JR.     178957.0                     1         2015.0   RR   \n",
       "2  ABEL MESQUITA JR.     178957.0                     1         2015.0   RR   \n",
       "3  ABEL MESQUITA JR.     178957.0                     1         2015.0   RR   \n",
       "4  ABEL MESQUITA JR.     178957.0                     1         2015.0   RR   \n",
       "\n",
       "  sgPartido  codLegislatura  numSubCota                   txtDescricao  \\\n",
       "0       DEM            55.0         3.0  COMBUSTÍVEIS E LUBRIFICANTES.   \n",
       "1       DEM            55.0         3.0  COMBUSTÍVEIS E LUBRIFICANTES.   \n",
       "2       DEM            55.0         3.0  COMBUSTÍVEIS E LUBRIFICANTES.   \n",
       "3       DEM            55.0         3.0  COMBUSTÍVEIS E LUBRIFICANTES.   \n",
       "4       DEM            55.0         3.0  COMBUSTÍVEIS E LUBRIFICANTES.   \n",
       "\n",
       "   numEspecificacaoSubCota      ...      numMes  numAno numParcela  \\\n",
       "0                      1.0      ...         2.0  2018.0        0.0   \n",
       "1                      1.0      ...         4.0  2018.0        0.0   \n",
       "2                      1.0      ...         3.0  2018.0        0.0   \n",
       "3                      1.0      ...         3.0  2018.0        0.0   \n",
       "4                      1.0      ...         1.0  2018.0        0.0   \n",
       "\n",
       "  txtPassageiro  txtTrecho    numLote  numRessarcimento  vlrRestituicao  \\\n",
       "0           NaN        NaN  1471159.0            6192.0             0.0   \n",
       "1           NaN        NaN  1497012.0            6289.0             0.0   \n",
       "2           NaN        NaN  1471173.0            6192.0             0.0   \n",
       "3           NaN        NaN  1483154.0            6238.0             0.0   \n",
       "4           NaN        NaN  1463325.0            6139.0             0.0   \n",
       "\n",
       "   nuDeputadoId  ideDocumento  \n",
       "0        3074.0     6519085.0  \n",
       "1        3074.0     6586329.0  \n",
       "2        3074.0     6519234.0  \n",
       "3        3074.0     6549679.0  \n",
       "4        3074.0     6498316.0  \n",
       "\n",
       "[5 rows x 29 columns]"
      ]
     },
     "execution_count": 2,
     "metadata": {},
     "output_type": "execute_result"
    }
   ],
   "source": [
    "# Importando dataset\n",
    "# delimiter: delimitador utilizado no dataset; \n",
    "# low_memory: parâmetro utilizado quando os dados de cada coluna exite muita memoria do computador \n",
    "df = pd.read_csv('dados/deputados.csv', delimiter=';', low_memory=False)\n",
    "# Visualiza os 5 primeiros registros do dataset. \n",
    "df.head()"
   ]
  },
  {
   "cell_type": "markdown",
   "metadata": {},
   "source": [
    "### 1.3 Visualizando as colunas do nosso dataset\n",
    "\n",
    "Conhecer o *dataset* do qual estamos analisando é uma das atividades primordiais. Claro: se não tivermos noção do que estamos analisando, não poderemos tomar as melhores decisões possíveis em forma de análise. Sendo assim, o primeiro passo que aconselho é conhecer a estrutura do *dataset* por meio de suas colunas. \n",
    "\n",
    "Uma das atividades que devemos realizar, neste momento, é avaliar os nomes e formato das dimensões (colunas). Verifique se existe alguma inconsistência, tais como: a) nome com carácter especial (isso pode gerar problemas no processamento dos dados), b) se existe espaço extra antes ou após os nomes das dimensões, c) se o campo tem valor composto etc. Perceba que as dimensões serão consideradas como índices. Sendo assim, poderemos ter acesso às informações isoladas de cada dimensão por meio dos seus nomes que serão considerados como índices."
   ]
  },
  {
   "cell_type": "code",
   "execution_count": 3,
   "metadata": {},
   "outputs": [
    {
     "data": {
      "text/plain": [
       "Index(['txNomeParlamentar ', 'idecadastro', 'nuCarteiraParlamentar',\n",
       "       'nuLegislatura', 'sgUF', 'sgPartido', 'codLegislatura', 'numSubCota',\n",
       "       'txtDescricao', 'numEspecificacaoSubCota', 'txtDescricaoEspecificacao',\n",
       "       'txtFornecedor', 'txtCNPJCPF', 'txtNumero', 'indTipoDocumento',\n",
       "       'datEmissao', 'vlrDocumento', 'vlrGlosa', 'vlrLiquido', 'numMes',\n",
       "       'numAno', 'numParcela', 'txtPassageiro', 'txtTrecho', 'numLote',\n",
       "       'numRessarcimento', 'vlrRestituicao', 'nuDeputadoId', 'ideDocumento'],\n",
       "      dtype='object')"
      ]
     },
     "execution_count": 3,
     "metadata": {},
     "output_type": "execute_result"
    }
   ],
   "source": [
    "# Visualizando as colunas do nosso dataset\n",
    "df.columns"
   ]
  },
  {
   "cell_type": "markdown",
   "metadata": {},
   "source": [
    "Em nosso exemplo, perceba que a dimensão 'txNomeParlamentar ' apresenta um espaço. Se você precisasse alterar todos os nomes das dimensões, você utilizaria o comando:\n",
    "```python\n",
    "\n",
    "df.columns = ['Coluna 1', 'Coluna 2', ..., 'Coluna n']\n",
    "\n",
    "\n",
    "```\n",
    "\n",
    "Sendo:  ['Coluna 1', 'Coluna 2', ..., 'Coluna n'] os novos nomes das dimensões (em ordem).\n",
    "\n",
    "Em nosso exemplo, iremos alterar **apenas** uma única dimensão. Para tanto utilizaremos a função rename do *dataframe*. O parâmetro **inplace=True** define que a mudança será realizada no próprio *dataframe* sem que seja necessária a criação de um novo."
   ]
  },
  {
   "cell_type": "code",
   "execution_count": 6,
   "metadata": {},
   "outputs": [
    {
     "data": {
      "text/plain": [
       "Index(['parlamentar', 'idecadastro', 'nuCarteiraParlamentar', 'nuLegislatura',\n",
       "       'sgUF', 'sgPartido', 'codLegislatura', 'numSubCota', 'txtDescricao',\n",
       "       'numEspecificacaoSubCota', 'txtDescricaoEspecificacao', 'txtFornecedor',\n",
       "       'txtCNPJCPF', 'txtNumero', 'indTipoDocumento', 'datEmissao',\n",
       "       'vlrDocumento', 'vlrGlosa', 'vlrLiquido', 'numMes', 'numAno',\n",
       "       'numParcela', 'txtPassageiro', 'txtTrecho', 'numLote',\n",
       "       'numRessarcimento', 'vlrRestituicao', 'nuDeputadoId', 'ideDocumento'],\n",
       "      dtype='object')"
      ]
     },
     "execution_count": 6,
     "metadata": {},
     "output_type": "execute_result"
    }
   ],
   "source": [
    "# Renomeia a dimensão txNomeParlamentar para palarmentar\n",
    "df.rename({'txNomeParlamentar ':'parlamentar'}, axis='columns', inplace=True)\n",
    "# Apresenta as colunas novamente\n",
    "df.columns"
   ]
  },
  {
   "cell_type": "markdown",
   "metadata": {},
   "source": [
    "Agora, imagine que você desejemos saber a quantidade de dimensões e, também, a quantidade de registos contidos em nosso *dataset*. Para tanto, utilizaremos o seguinte comando:"
   ]
  },
  {
   "cell_type": "code",
   "execution_count": 5,
   "metadata": {},
   "outputs": [
    {
     "data": {
      "text/plain": [
       "(168380, 29)"
      ]
     },
     "execution_count": 5,
     "metadata": {},
     "output_type": "execute_result"
    }
   ],
   "source": [
    "# (linhas - registros, dimensões - colunas)\n",
    "df.shape"
   ]
  },
  {
   "cell_type": "markdown",
   "metadata": {},
   "source": [
    "### 1.4 Conhecendo informações adicionais sobre o nosso *dataset*\n",
    "\n",
    "Uma vez que já temos o conhecimento estrutural de nosso *dataset*, podemos ir um pouco mais além em nosso 'namoro'. Agora, iremos analisar os dados do nosso *dataset*. \n",
    "Vamos utilizar a função **info()** para obtermos informações adicionais sobre o nosso *dataset*. Obtemos, como resposta, informações sobre cada dimensão do nosso *dataset*, tais como: quantidade não-nula (valores válidos) e o tipo.\n",
    "\n",
    "Perceba que temos algumas dimensões como inúmeros valores em branco, basta comparar a quantidade de registros válidos. Se temos 168380 registros (vimos isso como o df.shape), para sabermos quantos dados faltantes temos em cada coluna, basta subtrair a quantidade total de registros menos o valor correspondente à dimensão.\n",
    "\n",
    "Outro dado interessante que podemos perceber com o comando **info()** é a quantidade de memória exigida para o processamento do *dataset*. "
   ]
  },
  {
   "cell_type": "code",
   "execution_count": 7,
   "metadata": {},
   "outputs": [
    {
     "name": "stdout",
     "output_type": "stream",
     "text": [
      "<class 'pandas.core.frame.DataFrame'>\n",
      "RangeIndex: 168380 entries, 0 to 168379\n",
      "Data columns (total 29 columns):\n",
      "parlamentar                  168380 non-null object\n",
      "idecadastro                  167895 non-null float64\n",
      "nuCarteiraParlamentar        167894 non-null object\n",
      "nuLegislatura                168379 non-null float64\n",
      "sgUF                         167894 non-null object\n",
      "sgPartido                    167894 non-null object\n",
      "codLegislatura               167894 non-null float64\n",
      "numSubCota                   168379 non-null float64\n",
      "txtDescricao                 168379 non-null object\n",
      "numEspecificacaoSubCota      168378 non-null float64\n",
      "txtDescricaoEspecificacao    40373 non-null object\n",
      "txtFornecedor                168379 non-null object\n",
      "txtCNPJCPF                   155428 non-null object\n",
      "txtNumero                    166796 non-null object\n",
      "indTipoDocumento             168376 non-null float64\n",
      "datEmissao                   166796 non-null object\n",
      "vlrDocumento                 168375 non-null float64\n",
      "vlrGlosa                     168375 non-null float64\n",
      "vlrLiquido                   168375 non-null float64\n",
      "numMes                       168375 non-null float64\n",
      "numAno                       168375 non-null float64\n",
      "numParcela                   168375 non-null float64\n",
      "txtPassageiro                48438 non-null object\n",
      "txtTrecho                    48220 non-null object\n",
      "numLote                      168375 non-null float64\n",
      "numRessarcimento             168362 non-null float64\n",
      "vlrRestituicao               168375 non-null float64\n",
      "nuDeputadoId                 168375 non-null float64\n",
      "ideDocumento                 168375 non-null float64\n",
      "dtypes: float64(17), object(12)\n",
      "memory usage: 37.3+ MB\n"
     ]
    }
   ],
   "source": [
    "df.info()"
   ]
  },
  {
   "cell_type": "markdown",
   "metadata": {},
   "source": [
    "Essa foi a nossa primeira etapa no processo de Cleaning Data. E o que aprendemos?\n",
    "\n",
    "* O que é Cleaning Data e a sua importância no processo de análise de dados; \n",
    "* Conhecemos os tipos de problemas que iremos abordar ao logo deste curso; \n",
    "* Aprendemos como importar bibliotecas e carregar um dataset do tipo csv; \n",
    "* Aprendemos como visualizar um conjunto de dados em nosso dataset e como conhecer a estrutura do nosso *dataset*; \n",
    "* Vimos como reconhecer alguns problemas no formato das dimensões do nosso dataset e como resolvê-los; \n",
    "* Vimos, também, como identificar, com apenas um único comando, a quantidade de dados, memória utilizada para carregamento dos dados e, também, como identificar os dados faltantes. "
   ]
  }
 ],
 "metadata": {
  "kernelspec": {
   "display_name": "Python 3",
   "language": "python",
   "name": "python3"
  },
  "language_info": {
   "codemirror_mode": {
    "name": "ipython",
    "version": 3
   },
   "file_extension": ".py",
   "mimetype": "text/x-python",
   "name": "python",
   "nbconvert_exporter": "python",
   "pygments_lexer": "ipython3",
   "version": "3.7.0"
  }
 },
 "nbformat": 4,
 "nbformat_minor": 2
}
